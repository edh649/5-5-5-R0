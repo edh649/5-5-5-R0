{
 "cells": [
  {
   "cell_type": "markdown",
   "metadata": {},
   "source": [
    "Create our imports"
   ]
  },
  {
   "cell_type": "code",
   "execution_count": 1,
   "metadata": {
    "scrolled": true
   },
   "outputs": [],
   "source": [
    "import requests\n",
    "import pymysql\n",
    "import datetime"
   ]
  },
  {
   "cell_type": "markdown",
   "metadata": {},
   "source": [
    "Define a function to get the fundraiser pages"
   ]
  },
  {
   "cell_type": "code",
   "execution_count": 12,
   "metadata": {},
   "outputs": [],
   "source": [
    "def getPage(page):\n",
    "    parameters = {\n",
    "        \"fundraiserActivityId\": 1180837,\n",
    "        \"pageNumber\": page\n",
    "    }\n",
    "    return requests.get(\"https://uk.virginmoneygiving.com/fundraiser-display/getMoreDonationDetails\", params=parameters)"
   ]
  },
  {
   "cell_type": "code",
   "execution_count": 14,
   "metadata": {
    "scrolled": true
   },
   "outputs": [
    {
     "name": "stdout",
     "output_type": "stream",
     "text": [
      "200\n"
     ]
    }
   ],
   "source": [
    "print(response.status_code)"
   ]
  },
  {
   "cell_type": "markdown",
   "metadata": {},
   "source": [
    "Define a function for inserting into the database"
   ]
  },
  {
   "cell_type": "code",
   "execution_count": 83,
   "metadata": {},
   "outputs": [],
   "source": [
    "def insertToDatabase(donorId, dateRaw, value):\n",
    "    # Prepare SQL query to INSERT a record into the database.\n",
    "    date = datetime.datetime.fromtimestamp(dateRaw / 1e3)\n",
    "\n",
    "    #sql = \"INSERT INTO donators(donatorid, \\\n",
    "    #   date, amount) \\\n",
    "    #   VALUES ('%d', '%s', '%f')\" % \\\n",
    "    #   (donorId, str(date), value)\n",
    "        \n",
    "    sql = \"INSERT INTO donators(donatorid, \\\n",
    "       date) \\\n",
    "       VALUES ('%d', '%s')\" % \\\n",
    "       (donorId, str(date))\n",
    "\n",
    "    cursor.execute(sql)\n",
    "       # Commit your changes in the database\n",
    "    db.commit()\n",
    "    \n",
    "    #This can be in a try catch, but for now just error\n"
   ]
  },
  {
   "cell_type": "markdown",
   "metadata": {},
   "source": [
    "Open the database"
   ]
  },
  {
   "cell_type": "code",
   "execution_count": 16,
   "metadata": {},
   "outputs": [],
   "source": [
    "# Open database connection\n",
    "db = pymysql.connect(\"localhost\",\"fff\",\"secret\",\"fffRnought\" )\n",
    "\n",
    "# prepare a cursor object using cursor() method\n",
    "cursor = db.cursor()"
   ]
  },
  {
   "cell_type": "code",
   "execution_count": 78,
   "metadata": {},
   "outputs": [
    {
     "data": {
      "text/plain": [
       "{'loginUrl': None,\n",
       " 'message': None,\n",
       " 'objectList': None,\n",
       " 'result': [{'actualDonorName': None,\n",
       "   'displayDonationAmountInd': 'Y',\n",
       "   'donationDatetime': 1585927491000,\n",
       "   'donationFailedInd': 'N',\n",
       "   'donationId': 20590581,\n",
       "   'donorEmailAddress': None,\n",
       "   'donorForeName': None,\n",
       "   'donorMessage': 'Thanks Health Heroes!!',\n",
       "   'donorName': 'Liv Gale',\n",
       "   'donorSurName': None,\n",
       "   'fundraiserActivityId': None,\n",
       "   'grossAmount': 5.0,\n",
       "   'id': 19338626,\n",
       "   'shareEmailWithFundraiser': None,\n",
       "   'taxBackAmount': 1.25},\n",
       "  {'actualDonorName': None,\n",
       "   'displayDonationAmountInd': 'Y',\n",
       "   'donationDatetime': 1585927457000,\n",
       "   'donationFailedInd': 'N',\n",
       "   'donationId': 20590573,\n",
       "   'donorEmailAddress': None,\n",
       "   'donorForeName': None,\n",
       "   'donorMessage': None,\n",
       "   'donorName': 'Anonymous',\n",
       "   'donorSurName': None,\n",
       "   'fundraiserActivityId': None,\n",
       "   'grossAmount': 15.0,\n",
       "   'id': 19338620,\n",
       "   'shareEmailWithFundraiser': None,\n",
       "   'taxBackAmount': None},\n",
       "  {'actualDonorName': None,\n",
       "   'displayDonationAmountInd': 'Y',\n",
       "   'donationDatetime': 1585927431000,\n",
       "   'donationFailedInd': 'N',\n",
       "   'donationId': 20590568,\n",
       "   'donorEmailAddress': None,\n",
       "   'donorForeName': None,\n",
       "   'donorMessage': None,\n",
       "   'donorName': 'Anonymous',\n",
       "   'donorSurName': None,\n",
       "   'fundraiserActivityId': None,\n",
       "   'grossAmount': 5.0,\n",
       "   'id': 19338617,\n",
       "   'shareEmailWithFundraiser': None,\n",
       "   'taxBackAmount': None},\n",
       "  {'actualDonorName': None,\n",
       "   'displayDonationAmountInd': 'Y',\n",
       "   'donationDatetime': 1585927409000,\n",
       "   'donationFailedInd': 'N',\n",
       "   'donationId': 20590561,\n",
       "   'donorEmailAddress': None,\n",
       "   'donorForeName': None,\n",
       "   'donorMessage': None,\n",
       "   'donorName': 'Claire',\n",
       "   'donorSurName': None,\n",
       "   'fundraiserActivityId': None,\n",
       "   'grossAmount': 5.0,\n",
       "   'id': 19338612,\n",
       "   'shareEmailWithFundraiser': None,\n",
       "   'taxBackAmount': 1.25},\n",
       "  {'actualDonorName': None,\n",
       "   'displayDonationAmountInd': 'Y',\n",
       "   'donationDatetime': 1585927408000,\n",
       "   'donationFailedInd': 'N',\n",
       "   'donationId': 20590560,\n",
       "   'donorEmailAddress': None,\n",
       "   'donorForeName': None,\n",
       "   'donorMessage': None,\n",
       "   'donorName': 'Red Tribe UK CIS',\n",
       "   'donorSurName': None,\n",
       "   'fundraiserActivityId': None,\n",
       "   'grossAmount': 50.0,\n",
       "   'id': 19338611,\n",
       "   'shareEmailWithFundraiser': None,\n",
       "   'taxBackAmount': 12.5},\n",
       "  {'actualDonorName': None,\n",
       "   'displayDonationAmountInd': 'N',\n",
       "   'donationDatetime': 1585927324000,\n",
       "   'donationFailedInd': 'N',\n",
       "   'donationId': 20590549,\n",
       "   'donorEmailAddress': None,\n",
       "   'donorForeName': None,\n",
       "   'donorMessage': None,\n",
       "   'donorName': 'Gordon Wood',\n",
       "   'donorSurName': None,\n",
       "   'fundraiserActivityId': None,\n",
       "   'grossAmount': None,\n",
       "   'id': 19338602,\n",
       "   'shareEmailWithFundraiser': None,\n",
       "   'taxBackAmount': None},\n",
       "  {'actualDonorName': None,\n",
       "   'displayDonationAmountInd': 'Y',\n",
       "   'donationDatetime': 1585927277000,\n",
       "   'donationFailedInd': 'N',\n",
       "   'donationId': 20590539,\n",
       "   'donorEmailAddress': None,\n",
       "   'donorForeName': None,\n",
       "   'donorMessage': 'Go Health Hero’s EI[D83D-DC99]',\n",
       "   'donorName': 'Imogen Barnes',\n",
       "   'donorSurName': None,\n",
       "   'fundraiserActivityId': None,\n",
       "   'grossAmount': 5.0,\n",
       "   'id': 19338596,\n",
       "   'shareEmailWithFundraiser': None,\n",
       "   'taxBackAmount': None},\n",
       "  {'actualDonorName': None,\n",
       "   'displayDonationAmountInd': 'Y',\n",
       "   'donationDatetime': 1585927264000,\n",
       "   'donationFailedInd': 'N',\n",
       "   'donationId': 20590536,\n",
       "   'donorEmailAddress': None,\n",
       "   'donorForeName': None,\n",
       "   'donorMessage': None,\n",
       "   'donorName': 'Anonymous',\n",
       "   'donorSurName': None,\n",
       "   'fundraiserActivityId': None,\n",
       "   'grossAmount': 5.0,\n",
       "   'id': 19338594,\n",
       "   'shareEmailWithFundraiser': None,\n",
       "   'taxBackAmount': None},\n",
       "  {'actualDonorName': None,\n",
       "   'displayDonationAmountInd': 'Y',\n",
       "   'donationDatetime': 1585927241000,\n",
       "   'donationFailedInd': 'N',\n",
       "   'donationId': 20590533,\n",
       "   'donorEmailAddress': None,\n",
       "   'donorForeName': None,\n",
       "   'donorMessage': None,\n",
       "   'donorName': 'Anonymous',\n",
       "   'donorSurName': None,\n",
       "   'fundraiserActivityId': None,\n",
       "   'grossAmount': 15.0,\n",
       "   'id': 19338592,\n",
       "   'shareEmailWithFundraiser': None,\n",
       "   'taxBackAmount': None},\n",
       "  {'actualDonorName': None,\n",
       "   'displayDonationAmountInd': 'Y',\n",
       "   'donationDatetime': 1585927222000,\n",
       "   'donationFailedInd': 'N',\n",
       "   'donationId': 20590529,\n",
       "   'donorEmailAddress': None,\n",
       "   'donorForeName': None,\n",
       "   'donorMessage': None,\n",
       "   'donorName': 'Anonymous',\n",
       "   'donorSurName': None,\n",
       "   'fundraiserActivityId': None,\n",
       "   'grossAmount': 5.0,\n",
       "   'id': 19338588,\n",
       "   'shareEmailWithFundraiser': None,\n",
       "   'taxBackAmount': None}],\n",
       " 'status': 'SUCCESS'}"
      ]
     },
     "execution_count": 78,
     "metadata": {},
     "output_type": "execute_result"
    }
   ],
   "source": [
    "getPage(12000).json()"
   ]
  },
  {
   "cell_type": "code",
   "execution_count": 67,
   "metadata": {},
   "outputs": [
    {
     "data": {
      "text/plain": [
       "0"
      ]
     },
     "execution_count": 67,
     "metadata": {},
     "output_type": "execute_result"
    }
   ],
   "source": [
    "len([])"
   ]
  },
  {
   "cell_type": "code",
   "execution_count": 84,
   "metadata": {},
   "outputs": [
    {
     "name": "stdout",
     "output_type": "stream",
     "text": [
      "1\n",
      "2\n",
      "3\n",
      "4\n",
      "5\n",
      "6\n"
     ]
    },
    {
     "ename": "KeyboardInterrupt",
     "evalue": "",
     "output_type": "error",
     "traceback": [
      "\u001b[0;31m---------------------------------------------------------------------------\u001b[0m",
      "\u001b[0;31mKeyboardInterrupt\u001b[0m                         Traceback (most recent call last)",
      "\u001b[0;32m<ipython-input-84-3bc1f13db0b8>\u001b[0m in \u001b[0;36m<module>\u001b[0;34m()\u001b[0m\n\u001b[1;32m      8\u001b[0m     \u001b[0mdata\u001b[0m \u001b[0;34m=\u001b[0m \u001b[0mresponse\u001b[0m\u001b[0;34m.\u001b[0m\u001b[0mjson\u001b[0m\u001b[0;34m(\u001b[0m\u001b[0;34m)\u001b[0m\u001b[0;34m[\u001b[0m\u001b[0;34m'result'\u001b[0m\u001b[0;34m]\u001b[0m\u001b[0;34m\u001b[0m\u001b[0;34m\u001b[0m\u001b[0m\n\u001b[1;32m      9\u001b[0m     \u001b[0;32mfor\u001b[0m \u001b[0mr\u001b[0m \u001b[0;32min\u001b[0m \u001b[0mdata\u001b[0m\u001b[0;34m:\u001b[0m\u001b[0;34m\u001b[0m\u001b[0;34m\u001b[0m\u001b[0m\n\u001b[0;32m---> 10\u001b[0;31m         \u001b[0minsertToDatabase\u001b[0m\u001b[0;34m(\u001b[0m\u001b[0mr\u001b[0m\u001b[0;34m[\u001b[0m\u001b[0;34m'id'\u001b[0m\u001b[0;34m]\u001b[0m\u001b[0;34m,\u001b[0m \u001b[0mr\u001b[0m\u001b[0;34m[\u001b[0m\u001b[0;34m'donationDatetime'\u001b[0m\u001b[0;34m]\u001b[0m\u001b[0;34m,\u001b[0m \u001b[0mr\u001b[0m\u001b[0;34m[\u001b[0m\u001b[0;34m'grossAmount'\u001b[0m\u001b[0;34m]\u001b[0m\u001b[0;34m)\u001b[0m\u001b[0;34m\u001b[0m\u001b[0;34m\u001b[0m\u001b[0m\n\u001b[0m",
      "\u001b[0;32m<ipython-input-83-fb2c7688b5b1>\u001b[0m in \u001b[0;36minsertToDatabase\u001b[0;34m(donorId, dateRaw, value)\u001b[0m\n\u001b[1;32m     12\u001b[0m     \u001b[0mcursor\u001b[0m\u001b[0;34m.\u001b[0m\u001b[0mexecute\u001b[0m\u001b[0;34m(\u001b[0m\u001b[0msql\u001b[0m\u001b[0;34m)\u001b[0m\u001b[0;34m\u001b[0m\u001b[0;34m\u001b[0m\u001b[0m\n\u001b[1;32m     13\u001b[0m        \u001b[0;31m# Commit your changes in the database\u001b[0m\u001b[0;34m\u001b[0m\u001b[0;34m\u001b[0m\u001b[0;34m\u001b[0m\u001b[0m\n\u001b[0;32m---> 14\u001b[0;31m     \u001b[0mdb\u001b[0m\u001b[0;34m.\u001b[0m\u001b[0mcommit\u001b[0m\u001b[0;34m(\u001b[0m\u001b[0;34m)\u001b[0m\u001b[0;34m\u001b[0m\u001b[0;34m\u001b[0m\u001b[0m\n\u001b[0m\u001b[1;32m     15\u001b[0m \u001b[0;34m\u001b[0m\u001b[0m\n\u001b[1;32m     16\u001b[0m     \u001b[0;31m#This can be in a try catch, but for now just error\u001b[0m\u001b[0;34m\u001b[0m\u001b[0;34m\u001b[0m\u001b[0;34m\u001b[0m\u001b[0m\n",
      "\u001b[0;32m/home/ed/.local/lib/python3.6/site-packages/pymysql/connections.py\u001b[0m in \u001b[0;36mcommit\u001b[0;34m(self)\u001b[0m\n\u001b[1;32m    418\u001b[0m         \"\"\"\n\u001b[1;32m    419\u001b[0m         \u001b[0mself\u001b[0m\u001b[0;34m.\u001b[0m\u001b[0m_execute_command\u001b[0m\u001b[0;34m(\u001b[0m\u001b[0mCOMMAND\u001b[0m\u001b[0;34m.\u001b[0m\u001b[0mCOM_QUERY\u001b[0m\u001b[0;34m,\u001b[0m \u001b[0;34m\"COMMIT\"\u001b[0m\u001b[0;34m)\u001b[0m\u001b[0;34m\u001b[0m\u001b[0;34m\u001b[0m\u001b[0m\n\u001b[0;32m--> 420\u001b[0;31m         \u001b[0mself\u001b[0m\u001b[0;34m.\u001b[0m\u001b[0m_read_ok_packet\u001b[0m\u001b[0;34m(\u001b[0m\u001b[0;34m)\u001b[0m\u001b[0;34m\u001b[0m\u001b[0;34m\u001b[0m\u001b[0m\n\u001b[0m\u001b[1;32m    421\u001b[0m \u001b[0;34m\u001b[0m\u001b[0m\n\u001b[1;32m    422\u001b[0m     \u001b[0;32mdef\u001b[0m \u001b[0mrollback\u001b[0m\u001b[0;34m(\u001b[0m\u001b[0mself\u001b[0m\u001b[0;34m)\u001b[0m\u001b[0;34m:\u001b[0m\u001b[0;34m\u001b[0m\u001b[0;34m\u001b[0m\u001b[0m\n",
      "\u001b[0;32m/home/ed/.local/lib/python3.6/site-packages/pymysql/connections.py\u001b[0m in \u001b[0;36m_read_ok_packet\u001b[0;34m(self)\u001b[0m\n\u001b[1;32m    392\u001b[0m \u001b[0;34m\u001b[0m\u001b[0m\n\u001b[1;32m    393\u001b[0m     \u001b[0;32mdef\u001b[0m \u001b[0m_read_ok_packet\u001b[0m\u001b[0;34m(\u001b[0m\u001b[0mself\u001b[0m\u001b[0;34m)\u001b[0m\u001b[0;34m:\u001b[0m\u001b[0;34m\u001b[0m\u001b[0;34m\u001b[0m\u001b[0m\n\u001b[0;32m--> 394\u001b[0;31m         \u001b[0mpkt\u001b[0m \u001b[0;34m=\u001b[0m \u001b[0mself\u001b[0m\u001b[0;34m.\u001b[0m\u001b[0m_read_packet\u001b[0m\u001b[0;34m(\u001b[0m\u001b[0;34m)\u001b[0m\u001b[0;34m\u001b[0m\u001b[0;34m\u001b[0m\u001b[0m\n\u001b[0m\u001b[1;32m    395\u001b[0m         \u001b[0;32mif\u001b[0m \u001b[0;32mnot\u001b[0m \u001b[0mpkt\u001b[0m\u001b[0;34m.\u001b[0m\u001b[0mis_ok_packet\u001b[0m\u001b[0;34m(\u001b[0m\u001b[0;34m)\u001b[0m\u001b[0;34m:\u001b[0m\u001b[0;34m\u001b[0m\u001b[0;34m\u001b[0m\u001b[0m\n\u001b[1;32m    396\u001b[0m             \u001b[0;32mraise\u001b[0m \u001b[0merr\u001b[0m\u001b[0;34m.\u001b[0m\u001b[0mOperationalError\u001b[0m\u001b[0;34m(\u001b[0m\u001b[0;36m2014\u001b[0m\u001b[0;34m,\u001b[0m \u001b[0;34m\"Command Out of Sync\"\u001b[0m\u001b[0;34m)\u001b[0m\u001b[0;34m\u001b[0m\u001b[0;34m\u001b[0m\u001b[0m\n",
      "\u001b[0;32m/home/ed/.local/lib/python3.6/site-packages/pymysql/connections.py\u001b[0m in \u001b[0;36m_read_packet\u001b[0;34m(self, packet_type)\u001b[0m\n\u001b[1;32m    655\u001b[0m         \u001b[0mbuff\u001b[0m \u001b[0;34m=\u001b[0m \u001b[0;34mb''\u001b[0m\u001b[0;34m\u001b[0m\u001b[0;34m\u001b[0m\u001b[0m\n\u001b[1;32m    656\u001b[0m         \u001b[0;32mwhile\u001b[0m \u001b[0;32mTrue\u001b[0m\u001b[0;34m:\u001b[0m\u001b[0;34m\u001b[0m\u001b[0;34m\u001b[0m\u001b[0m\n\u001b[0;32m--> 657\u001b[0;31m             \u001b[0mpacket_header\u001b[0m \u001b[0;34m=\u001b[0m \u001b[0mself\u001b[0m\u001b[0;34m.\u001b[0m\u001b[0m_read_bytes\u001b[0m\u001b[0;34m(\u001b[0m\u001b[0;36m4\u001b[0m\u001b[0;34m)\u001b[0m\u001b[0;34m\u001b[0m\u001b[0;34m\u001b[0m\u001b[0m\n\u001b[0m\u001b[1;32m    658\u001b[0m             \u001b[0;31m#if DEBUG: dump_packet(packet_header)\u001b[0m\u001b[0;34m\u001b[0m\u001b[0;34m\u001b[0m\u001b[0;34m\u001b[0m\u001b[0m\n\u001b[1;32m    659\u001b[0m \u001b[0;34m\u001b[0m\u001b[0m\n",
      "\u001b[0;32m/home/ed/.local/lib/python3.6/site-packages/pymysql/connections.py\u001b[0m in \u001b[0;36m_read_bytes\u001b[0;34m(self, num_bytes)\u001b[0m\n\u001b[1;32m    689\u001b[0m         \u001b[0;32mwhile\u001b[0m \u001b[0;32mTrue\u001b[0m\u001b[0;34m:\u001b[0m\u001b[0;34m\u001b[0m\u001b[0;34m\u001b[0m\u001b[0m\n\u001b[1;32m    690\u001b[0m             \u001b[0;32mtry\u001b[0m\u001b[0;34m:\u001b[0m\u001b[0;34m\u001b[0m\u001b[0;34m\u001b[0m\u001b[0m\n\u001b[0;32m--> 691\u001b[0;31m                 \u001b[0mdata\u001b[0m \u001b[0;34m=\u001b[0m \u001b[0mself\u001b[0m\u001b[0;34m.\u001b[0m\u001b[0m_rfile\u001b[0m\u001b[0;34m.\u001b[0m\u001b[0mread\u001b[0m\u001b[0;34m(\u001b[0m\u001b[0mnum_bytes\u001b[0m\u001b[0;34m)\u001b[0m\u001b[0;34m\u001b[0m\u001b[0;34m\u001b[0m\u001b[0m\n\u001b[0m\u001b[1;32m    692\u001b[0m                 \u001b[0;32mbreak\u001b[0m\u001b[0;34m\u001b[0m\u001b[0;34m\u001b[0m\u001b[0m\n\u001b[1;32m    693\u001b[0m             \u001b[0;32mexcept\u001b[0m \u001b[0;34m(\u001b[0m\u001b[0mIOError\u001b[0m\u001b[0;34m,\u001b[0m \u001b[0mOSError\u001b[0m\u001b[0;34m)\u001b[0m \u001b[0;32mas\u001b[0m \u001b[0me\u001b[0m\u001b[0;34m:\u001b[0m\u001b[0;34m\u001b[0m\u001b[0;34m\u001b[0m\u001b[0m\n",
      "\u001b[0;32m/usr/lib/python3.6/socket.py\u001b[0m in \u001b[0;36mreadinto\u001b[0;34m(self, b)\u001b[0m\n\u001b[1;32m    584\u001b[0m         \u001b[0;32mwhile\u001b[0m \u001b[0;32mTrue\u001b[0m\u001b[0;34m:\u001b[0m\u001b[0;34m\u001b[0m\u001b[0;34m\u001b[0m\u001b[0m\n\u001b[1;32m    585\u001b[0m             \u001b[0;32mtry\u001b[0m\u001b[0;34m:\u001b[0m\u001b[0;34m\u001b[0m\u001b[0;34m\u001b[0m\u001b[0m\n\u001b[0;32m--> 586\u001b[0;31m                 \u001b[0;32mreturn\u001b[0m \u001b[0mself\u001b[0m\u001b[0;34m.\u001b[0m\u001b[0m_sock\u001b[0m\u001b[0;34m.\u001b[0m\u001b[0mrecv_into\u001b[0m\u001b[0;34m(\u001b[0m\u001b[0mb\u001b[0m\u001b[0;34m)\u001b[0m\u001b[0;34m\u001b[0m\u001b[0;34m\u001b[0m\u001b[0m\n\u001b[0m\u001b[1;32m    587\u001b[0m             \u001b[0;32mexcept\u001b[0m \u001b[0mtimeout\u001b[0m\u001b[0;34m:\u001b[0m\u001b[0;34m\u001b[0m\u001b[0;34m\u001b[0m\u001b[0m\n\u001b[1;32m    588\u001b[0m                 \u001b[0mself\u001b[0m\u001b[0;34m.\u001b[0m\u001b[0m_timeout_occurred\u001b[0m \u001b[0;34m=\u001b[0m \u001b[0;32mTrue\u001b[0m\u001b[0;34m\u001b[0m\u001b[0;34m\u001b[0m\u001b[0m\n",
      "\u001b[0;31mKeyboardInterrupt\u001b[0m: "
     ]
    }
   ],
   "source": [
    "for i in range(1, 12500):\n",
    "    print(i)\n",
    "    response = getPage(i)\n",
    "    if (response.status_code != 200):\n",
    "        raise ValueError(\"not 200, okay response\")\n",
    "    if (len(response.json()['result']) == 0):\n",
    "        raise ValueError(\"no fields in response data\")\n",
    "    data = response.json()['result']\n",
    "    for r in data:\n",
    "        insertToDatabase(r['id'], r['donationDatetime'], r['grossAmount'])"
   ]
  }
 ],
 "metadata": {
  "kernelspec": {
   "display_name": "Python 3",
   "language": "python",
   "name": "python3"
  },
  "language_info": {
   "codemirror_mode": {
    "name": "ipython",
    "version": 3
   },
   "file_extension": ".py",
   "mimetype": "text/x-python",
   "name": "python",
   "nbconvert_exporter": "python",
   "pygments_lexer": "ipython3",
   "version": "3.6.9"
  }
 },
 "nbformat": 4,
 "nbformat_minor": 2
}
