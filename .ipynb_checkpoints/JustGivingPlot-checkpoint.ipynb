{
 "cells": [
  {
   "cell_type": "markdown",
   "metadata": {},
   "source": [
    "Create our imports"
   ]
  },
  {
   "cell_type": "code",
   "execution_count": 45,
   "metadata": {
    "scrolled": true
   },
   "outputs": [],
   "source": [
    "import requests\n",
    "import datetime\n",
    "import matplotlib.pyplot as plt\n",
    "import pandas as pd"
   ]
  },
  {
   "cell_type": "markdown",
   "metadata": {},
   "source": [
    "Define a function to get the fundraiser pages"
   ]
  },
  {
   "cell_type": "code",
   "execution_count": 5,
   "metadata": {},
   "outputs": [],
   "source": [
    "def getPage(page):\n",
    "    parameters = {\n",
    "        \"fundraiserActivityId\": 1180837,\n",
    "        \"pageNumber\": page\n",
    "    }\n",
    "    return requests.get(\"https://uk.virginmoneygiving.com/fundraiser-display/getMoreDonationDetails\", params=parameters)"
   ]
  },
  {
   "cell_type": "markdown",
   "metadata": {},
   "source": [
    "Define a function for getting and importing a page"
   ]
  },
  {
   "cell_type": "code",
   "execution_count": 14,
   "metadata": {},
   "outputs": [],
   "source": [
    "def getPageTop(page):\n",
    "    response = getPage(page)\n",
    "    if (response.status_code != 200):\n",
    "        raise ValueError(\"not 200, okay response\")\n",
    "    if (len(response.json()['result']) == 0):\n",
    "        raise ValueError(\"no fields in response data\")\n",
    "    data = response.json()['result']\n",
    "    return data[0]"
   ]
  },
  {
   "cell_type": "code",
   "execution_count": 112,
   "metadata": {
    "scrolled": true
   },
   "outputs": [
    {
     "name": "stdout",
     "output_type": "stream",
     "text": [
      "1\n",
      "10\n",
      "50\n",
      "100\n",
      "150\n",
      "200\n",
      "250\n",
      "300\n",
      "400\n",
      "500\n",
      "1000\n",
      "1500\n",
      "2000\n",
      "2500\n",
      "3000\n",
      "3250\n",
      "3500\n",
      "3750\n",
      "4000\n",
      "4500\n",
      "5000\n",
      "5500\n",
      "6000\n",
      "6500\n",
      "7000\n",
      "7500\n",
      "8000\n",
      "9000\n",
      "10000\n",
      "11000\n",
      "12000\n"
     ]
    }
   ],
   "source": [
    "#import data\n",
    "readings = [];\n",
    "for i in [1, 10, 50, 100, 150, 200, 250, 300, 400, 500, 1000, 1500, 2000, 2500, 3000, 3250, 3500, 3750, 4000, 4500, 5000, 5500, 6000, 6500, 7000, 7500, 8000, 9000, 10000, 11000, 12000]: #go to page #12001\n",
    "    page = i\n",
    "    r = getPageTop(page)\n",
    "    print(page)\n",
    "    readings.append({'page': page, 'datetime': r['donationDatetime']})"
   ]
  },
  {
   "cell_type": "code",
   "execution_count": 113,
   "metadata": {},
   "outputs": [],
   "source": [
    "#transform\n",
    "readingsReady = []\n",
    "lastReading = readings[len(readings)-1]\n",
    "maxPage = lastReading['page']\n",
    "for r in readings:\n",
    "    dateRaw = r['datetime']\n",
    "    humanDateTime = str(datetime.datetime.fromtimestamp(dateRaw / 1e3))\n",
    "    readingsReady.append({'count': (maxPage - r['page'])*10, 'datetime': humanDateTime})"
   ]
  },
  {
   "cell_type": "code",
   "execution_count": 116,
   "metadata": {
    "scrolled": true
   },
   "outputs": [
    {
     "data": {
      "text/plain": [
       "<matplotlib.axes._subplots.AxesSubplot at 0x7fbccc8b3080>"
      ]
     },
     "execution_count": 116,
     "metadata": {},
     "output_type": "execute_result"
    },
    {
     "data": {
      "image/png": "[encoded data removed]",
      "text/plain": [
       "<Figure size 432x288 with 1 Axes>"
      ]
     },
     "metadata": {},
     "output_type": "display_data"
    }
   ],
   "source": [
    "#convert to dataframe\n",
    "df = pd.DataFrame(readingsReady)\n",
    "df['datetime']= pd.to_datetime(df['datetime']) \n",
    "df.plot('datetime', style='.-')"
   ]
  }
 ],
 "metadata": {
  "kernelspec": {
   "display_name": "Python 3",
   "language": "python",
   "name": "python3"
  },
  "language_info": {
   "codemirror_mode": {
    "name": "ipython",
    "version": 3
   },
   "file_extension": ".py",
   "mimetype": "text/x-python",
   "name": "python",
   "nbconvert_exporter": "python",
   "pygments_lexer": "ipython3",
   "version": "3.6.9"
  }
 },
 "nbformat": 4,
 "nbformat_minor": 2
}
