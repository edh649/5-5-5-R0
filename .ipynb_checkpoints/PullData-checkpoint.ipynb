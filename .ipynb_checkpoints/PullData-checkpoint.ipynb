{
 "cells": [
  {
   "cell_type": "markdown",
   "metadata": {},
   "source": [
    "Create our imports"
   ]
  },
  {
   "cell_type": "code",
   "execution_count": 20,
   "metadata": {
    "scrolled": true
   },
   "outputs": [],
   "source": [
    "import requests\n",
    "import pymysql\n",
    "import datetime\n",
    "import asyncio"
   ]
  },
  {
   "cell_type": "markdown",
   "metadata": {},
   "source": [
    "Define a function to get the fundraiser pages"
   ]
  },
  {
   "cell_type": "code",
   "execution_count": 15,
   "metadata": {},
   "outputs": [],
   "source": [
    "def getPage(page):\n",
    "    parameters = {\n",
    "        \"fundraiserActivityId\": 1180837,\n",
    "        \"pageNumber\": page\n",
    "    }\n",
    "    return requests.get(\"https://uk.virginmoneygiving.com/fundraiser-display/getMoreDonationDetails\", params=parameters)"
   ]
  },
  {
   "cell_type": "markdown",
   "metadata": {},
   "source": [
    "Define a function for inserting into the database"
   ]
  },
  {
   "cell_type": "code",
   "execution_count": 17,
   "metadata": {},
   "outputs": [],
   "source": [
    "def insertToDatabase(donorId, dateRaw, value):\n",
    "    # Prepare SQL query to INSERT a record into the database.\n",
    "    date = datetime.datetime.fromtimestamp(dateRaw / 1e3)\n",
    "\n",
    "    #sql = \"INSERT INTO donators(donatorid, \\\n",
    "    #   date, amount) \\\n",
    "    #   VALUES ('%d', '%s', '%f')\" % \\\n",
    "    #   (donorId, str(date), value)\n",
    "        \n",
    "    sql = \"INSERT INTO donators(donatorid, \\\n",
    "       date) \\\n",
    "       VALUES ('%d', '%s')\" % \\\n",
    "       (donorId, str(date))\n",
    "\n",
    "    cursor.execute(sql)\n",
    "       # Commit your changes in the database\n",
    "    db.commit()\n",
    "    \n",
    "    #This can be in a try catch, but for now just error\n"
   ]
  },
  {
   "cell_type": "markdown",
   "metadata": {},
   "source": [
    "Open the database"
   ]
  },
  {
   "cell_type": "code",
   "execution_count": 18,
   "metadata": {},
   "outputs": [],
   "source": [
    "# Open database connection\n",
    "db = pymysql.connect(\"localhost\",\"fff\",\"secret\",\"fffRnought\" )\n",
    "\n",
    "# prepare a cursor object using cursor() method\n",
    "cursor = db.cursor()"
   ]
  },
  {
   "cell_type": "markdown",
   "metadata": {},
   "source": [
    "Define a function for getting and importing a page"
   ]
  },
  {
   "cell_type": "code",
   "execution_count": 32,
   "metadata": {},
   "outputs": [],
   "source": [
    "async def importPage(page):\n",
    "    response = await getPage(i)\n",
    "    if (response.status_code != 200):\n",
    "        raise ValueError(\"not 200, okay response\")\n",
    "    if (len(response.json()['result']) == 0):\n",
    "        raise ValueError(\"no fields in response data\")\n",
    "    data = response.json()['result']\n",
    "    for r in data:\n",
    "        insertToDatabase(r['id'], r['donationDatetime'], r['grossAmount'])"
   ]
  },
  {
   "cell_type": "code",
   "execution_count": 35,
   "metadata": {},
   "outputs": [
    {
     "name": "stdout",
     "output_type": "stream",
     "text": [
      "1\n"
     ]
    },
    {
     "ename": "NameError",
     "evalue": "name 'await' is not defined",
     "output_type": "error",
     "traceback": [
      "\u001b[0;31m---------------------------------------------------------------------------\u001b[0m",
      "\u001b[0;31mNameError\u001b[0m                                 Traceback (most recent call last)",
      "\u001b[0;32m<ipython-input-35-26110e7d0904>\u001b[0m in \u001b[0;36m<module>\u001b[0;34m()\u001b[0m\n\u001b[1;32m      1\u001b[0m \u001b[0;32mfor\u001b[0m \u001b[0mi\u001b[0m \u001b[0;32min\u001b[0m \u001b[0mrange\u001b[0m\u001b[0;34m(\u001b[0m\u001b[0;36m1\u001b[0m\u001b[0;34m,\u001b[0m \u001b[0;36m10\u001b[0m\u001b[0;34m)\u001b[0m\u001b[0;34m:\u001b[0m\u001b[0;34m\u001b[0m\u001b[0;34m\u001b[0m\u001b[0m\n\u001b[1;32m      2\u001b[0m     \u001b[0mprint\u001b[0m\u001b[0;34m(\u001b[0m\u001b[0mi\u001b[0m\u001b[0;34m)\u001b[0m\u001b[0;34m\u001b[0m\u001b[0;34m\u001b[0m\u001b[0m\n\u001b[0;32m----> 3\u001b[0;31m     \u001b[0mawait\u001b[0m \u001b[0;34m(\u001b[0m\u001b[0mimportPage\u001b[0m\u001b[0;34m(\u001b[0m\u001b[0mi\u001b[0m\u001b[0;34m)\u001b[0m\u001b[0;34m)\u001b[0m\u001b[0;34m\u001b[0m\u001b[0;34m\u001b[0m\u001b[0m\n\u001b[0m",
      "\u001b[0;31mNameError\u001b[0m: name 'await' is not defined"
     ]
    }
   ],
   "source": [
    "for i in range(1, 10):\n",
    "    print(i)\n",
    "    await importPage(i)"
   ]
  }
 ],
 "metadata": {
  "kernelspec": {
   "display_name": "Python 3",
   "language": "python",
   "name": "python3"
  },
  "language_info": {
   "codemirror_mode": {
    "name": "ipython",
    "version": 3
   },
   "file_extension": ".py",
   "mimetype": "text/x-python",
   "name": "python",
   "nbconvert_exporter": "python",
   "pygments_lexer": "ipython3",
   "version": "3.6.9"
  }
 },
 "nbformat": 4,
 "nbformat_minor": 2
}
